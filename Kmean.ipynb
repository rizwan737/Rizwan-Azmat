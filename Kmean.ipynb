{
 "cells": [
  {
   "cell_type": "code",
   "execution_count": 7,
   "id": "51917ade-b63c-4fdd-8467-79461452e28a",
   "metadata": {},
   "outputs": [],
   "source": [
    "import pandas as pd\n",
    "import numpy as np\n",
    "import matplotlib.pyplot as plt \n",
    "from sklearn import metrics\n",
    "from sklearn.cluster import KMeans"
   ]
  },
  {
   "cell_type": "code",
   "execution_count": 9,
   "id": "59299d59-138b-417f-96a7-5af2d2ae3b56",
   "metadata": {},
   "outputs": [],
   "source": [
    "df= pd.read_csv('bank_transactions.csv')"
   ]
  },
  {
   "cell_type": "code",
   "execution_count": 10,
   "id": "42ce3d15-9793-4b54-a558-bcc622e85286",
   "metadata": {},
   "outputs": [
    {
     "data": {
      "text/html": [
       "<div>\n",
       "<style scoped>\n",
       "    .dataframe tbody tr th:only-of-type {\n",
       "        vertical-align: middle;\n",
       "    }\n",
       "\n",
       "    .dataframe tbody tr th {\n",
       "        vertical-align: top;\n",
       "    }\n",
       "\n",
       "    .dataframe thead th {\n",
       "        text-align: right;\n",
       "    }\n",
       "</style>\n",
       "<table border=\"1\" class=\"dataframe\">\n",
       "  <thead>\n",
       "    <tr style=\"text-align: right;\">\n",
       "      <th></th>\n",
       "      <th>TransactionID</th>\n",
       "      <th>CustomerID</th>\n",
       "      <th>CustomerDOB</th>\n",
       "      <th>CustGender</th>\n",
       "      <th>CustLocation</th>\n",
       "      <th>CustAccountBalance</th>\n",
       "      <th>TransactionDate</th>\n",
       "      <th>TransactionTime</th>\n",
       "      <th>TransactionAmount (INR)</th>\n",
       "    </tr>\n",
       "  </thead>\n",
       "  <tbody>\n",
       "    <tr>\n",
       "      <th>0</th>\n",
       "      <td>T1</td>\n",
       "      <td>C5841053</td>\n",
       "      <td>10-01-1994</td>\n",
       "      <td>F</td>\n",
       "      <td>JAMSHEDPUR</td>\n",
       "      <td>17819.05</td>\n",
       "      <td>02-08-2016</td>\n",
       "      <td>143207.0</td>\n",
       "      <td>25.0</td>\n",
       "    </tr>\n",
       "    <tr>\n",
       "      <th>1</th>\n",
       "      <td>T2</td>\n",
       "      <td>C2142763</td>\n",
       "      <td>04-04-1957</td>\n",
       "      <td>M</td>\n",
       "      <td>JHAJJAR</td>\n",
       "      <td>2270.69</td>\n",
       "      <td>02-08-2016</td>\n",
       "      <td>141858.0</td>\n",
       "      <td>27999.0</td>\n",
       "    </tr>\n",
       "    <tr>\n",
       "      <th>2</th>\n",
       "      <td>T3</td>\n",
       "      <td>C4417068</td>\n",
       "      <td>26-11-1996</td>\n",
       "      <td>F</td>\n",
       "      <td>MUMBAI</td>\n",
       "      <td>17874.44</td>\n",
       "      <td>02-08-2016</td>\n",
       "      <td>142712.0</td>\n",
       "      <td>459.0</td>\n",
       "    </tr>\n",
       "    <tr>\n",
       "      <th>3</th>\n",
       "      <td>T4</td>\n",
       "      <td>C5342380</td>\n",
       "      <td>14-09-1973</td>\n",
       "      <td>F</td>\n",
       "      <td>MUMBAI</td>\n",
       "      <td>866503.21</td>\n",
       "      <td>02-08-2016</td>\n",
       "      <td>142714.0</td>\n",
       "      <td>2060.0</td>\n",
       "    </tr>\n",
       "    <tr>\n",
       "      <th>4</th>\n",
       "      <td>T5</td>\n",
       "      <td>C9031234</td>\n",
       "      <td>24-03-1988</td>\n",
       "      <td>F</td>\n",
       "      <td>NAVI MUMBAI</td>\n",
       "      <td>6714.43</td>\n",
       "      <td>02-08-2016</td>\n",
       "      <td>181156.0</td>\n",
       "      <td>1762.5</td>\n",
       "    </tr>\n",
       "  </tbody>\n",
       "</table>\n",
       "</div>"
      ],
      "text/plain": [
       "  TransactionID CustomerID CustomerDOB CustGender CustLocation  \\\n",
       "0            T1   C5841053  10-01-1994          F   JAMSHEDPUR   \n",
       "1            T2   C2142763  04-04-1957          M      JHAJJAR   \n",
       "2            T3   C4417068  26-11-1996          F       MUMBAI   \n",
       "3            T4   C5342380  14-09-1973          F       MUMBAI   \n",
       "4            T5   C9031234  24-03-1988          F  NAVI MUMBAI   \n",
       "\n",
       "   CustAccountBalance TransactionDate  TransactionTime  \\\n",
       "0            17819.05      02-08-2016         143207.0   \n",
       "1             2270.69      02-08-2016         141858.0   \n",
       "2            17874.44      02-08-2016         142712.0   \n",
       "3           866503.21      02-08-2016         142714.0   \n",
       "4             6714.43      02-08-2016         181156.0   \n",
       "\n",
       "   TransactionAmount (INR)  \n",
       "0                     25.0  \n",
       "1                  27999.0  \n",
       "2                    459.0  \n",
       "3                   2060.0  \n",
       "4                   1762.5  "
      ]
     },
     "execution_count": 10,
     "metadata": {},
     "output_type": "execute_result"
    }
   ],
   "source": [
    "df.head()"
   ]
  },
  {
   "cell_type": "code",
   "execution_count": 21,
   "id": "f7ec0785-c287-49c4-bb30-9bdcb34ba8a2",
   "metadata": {},
   "outputs": [
    {
     "name": "stdout",
     "output_type": "stream",
     "text": [
      "TransactionID               object\n",
      "CustomerID                  object\n",
      "CustomerDOB                 object\n",
      "CustGender                  object\n",
      "CustLocation                object\n",
      "CustAccountBalance         float64\n",
      "TransactionDate             object\n",
      "TransactionTime            float64\n",
      "TransactionAmount (INR)    float64\n",
      "dtype: object\n"
     ]
    }
   ],
   "source": [
    "print(df.dtypes)"
   ]
  },
  {
   "cell_type": "code",
   "execution_count": 22,
   "id": "6262fe20-7206-46c3-a488-c36e794243c1",
   "metadata": {},
   "outputs": [],
   "source": [
    "df = df.select_dtypes(exclude=['object'])\n"
   ]
  },
  {
   "cell_type": "code",
   "execution_count": 24,
   "id": "1cb687b0-7e08-4594-9263-e63d4365e160",
   "metadata": {},
   "outputs": [],
   "source": [
    "df = df.dropna()  \n"
   ]
  },
  {
   "cell_type": "code",
   "execution_count": 25,
   "id": "41aef6a0-53c1-48d3-bd75-bcaaa3e6874e",
   "metadata": {},
   "outputs": [],
   "source": [
    "from sklearn.preprocessing import StandardScaler\n",
    "scaler = StandardScaler()\n",
    "X = scaler.fit_transform(df)"
   ]
  },
  {
   "cell_type": "code",
   "execution_count": 28,
   "id": "c0333b30-cf10-45c8-934f-9cd96d060b53",
   "metadata": {},
   "outputs": [
    {
     "data": {
      "text/plain": [
       "array([[-0.13469447, -0.80231944, -0.22673501],\n",
       "       [-0.15458131, -0.83497901,  3.57546311],\n",
       "       [-0.13462363, -0.81430349, -0.16774616],\n",
       "       ...,\n",
       "       [ 0.04741018, -0.26875065, -0.22197785],\n",
       "       [-0.15706557, -0.12390097, -0.2287738 ],\n",
       "       [-0.15699976, -0.11412005, -0.10902372]], shape=(15124, 3))"
      ]
     },
     "execution_count": 28,
     "metadata": {},
     "output_type": "execute_result"
    }
   ],
   "source": [
    "X"
   ]
  },
  {
   "cell_type": "code",
   "execution_count": 26,
   "id": "2982377d-75f0-4710-987b-fd4d4be636e5",
   "metadata": {},
   "outputs": [],
   "source": [
    "from sklearn.cluster import KMeans\n",
    "\n",
    "inertias = []\n",
    "for k in range(2, 11):\n",
    "    kmean_model = KMeans(n_clusters=k, random_state=42).fit(X)\n",
    "    inertias.append(kmean_model.inertia_)\n"
   ]
  },
  {
   "cell_type": "code",
   "execution_count": 27,
   "id": "0ae5561c-b582-421b-b444-1f3f453019f0",
   "metadata": {},
   "outputs": [
    {
     "data": {
      "image/png": "[encoded data removed]",
      "text/plain": [
       "<Figure size 800x500 with 1 Axes>"
      ]
     },
     "metadata": {},
     "output_type": "display_data"
    }
   ],
   "source": [
    "plt.figure(figsize=(8, 5))\n",
    "plt.plot(range(2, 11), inertias, marker='o', linestyle='-')\n",
    "plt.title('Elbow Method for Optimal k')\n",
    "plt.xlabel('Number of Clusters (k)')\n",
    "plt.ylabel('Inertia')\n",
    "plt.grid(True)\n",
    "plt.show()"
   ]
  },
  {
   "cell_type": "code",
   "execution_count": null,
   "id": "7820e84a-2bd4-43a6-be9d-cd5918f094f6",
   "metadata": {},
   "outputs": [],
   "source": []
  }
 ],
 "metadata": {
  "kernelspec": {
   "display_name": "Python 3 (ipykernel)",
   "language": "python",
   "name": "python3"
  },
  "language_info": {
   "codemirror_mode": {
    "name": "ipython",
    "version": 3
   },
   "file_extension": ".py",
   "mimetype": "text/x-python",
   "name": "python",
   "nbconvert_exporter": "python",
   "pygments_lexer": "ipython3",
   "version": "3.10.16"
  }
 },
 "nbformat": 4,
 "nbformat_minor": 5
}
